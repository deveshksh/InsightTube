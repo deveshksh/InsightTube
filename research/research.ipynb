{
 "cells": [
  {
   "cell_type": "markdown",
   "metadata": {},
   "source": [
    "## VideoID Retrival "
   ]
  },
  {
   "cell_type": "code",
   "execution_count": 1,
   "metadata": {},
   "outputs": [
    {
     "name": "stdout",
     "output_type": "stream",
     "text": [
      "GuErWFsHSzM&pp\n"
     ]
    }
   ],
   "source": [
    "link = \"https://www.youtube.com/watch?v=GuErWFsHSzM\"\n",
    "link2 = \"https://www.youtube.com/watch?v=GuErWFsHSzM&pp=ygUJbXIgbW9iaWxl\"\n",
    "video_id = link2.split(\"=\")[1]\n",
    "print(video_id)"
   ]
  },
  {
   "cell_type": "markdown",
   "metadata": {},
   "source": [
    "## Youtube Video Transcription "
   ]
  },
  {
   "cell_type": "code",
   "execution_count": 2,
   "metadata": {},
   "outputs": [],
   "source": [
    "from youtube_transcript_api import YouTubeTranscriptApi"
   ]
  },
  {
   "cell_type": "code",
   "execution_count": 3,
   "metadata": {},
   "outputs": [],
   "source": [
    "def youtube_transcript(video_id):\n",
    "    transcript_dict=YouTubeTranscriptApi.get_transcript(video_id)\n",
    "    final_transcript = \"\"\n",
    "    for i in transcript_dict:\n",
    "        final_transcript += \" \" + i[\"text\"]\n",
    "        timevar = round(float(i[\"start\"]))\n",
    "        hours = int(timevar // 3600)\n",
    "        timevar %= 3600\n",
    "        minutes = int(timevar // 60)\n",
    "        timevar %= 60\n",
    "        timevex = f\"{hours:02d}:{minutes:02d}:{timevar:02d}\"\n",
    "        final_transcript += f' \"time:{timevex}\"'\n",
    "    return str(final_transcript)"
   ]
  },
  {
   "cell_type": "code",
   "execution_count": 4,
   "metadata": {},
   "outputs": [
    {
     "data": {
      "text/plain": [
       "' sponsored by T \"time:00:00:01\" Mobile I just can\\'t have the same \"time:00:00:15\" conversations \"time:00:00:18\" anymore yes the bezels are Slimmer yes \"time:00:00:21\" the screen is flat and yes the pen still \"time:00:00:24\" has an S on it but if you\\'re looking \"time:00:00:27\" forc exent in smartphones at least those \"time:00:00:30\" without a hinge software is where it\\'s \"time:00:00:32\" at these days and that\\'s why Samsung has \"time:00:00:34\" chosen to pitch its newest most \"time:00:00:37\" expensive bar type Galaxy as an AI \"time:00:00:39\" phone yeah the buzzword I managed to \"time:00:00:43\" mostly avoid at this year\\'s CES in Las \"time:00:00:46\" Vegas finally caught up with me at \"time:00:00:48\" Samsung\\'s unpacked Event in San Jose and \"time:00:00:50\" here\\'s the thing AI actually does make \"time:00:00:53\" it easier to get excited about this \"time:00:00:56\" year\\'s Galaxy Ultra the only only \"time:00:00:58\" question is it\\'s one of those years for \"time:00:01:00\" how \"time:00:01:03\" long take note I\\'m not saying the ultra \"time:00:01:09\" as a whole wins me over externally this \"time:00:01:13\" is what the national might call another \"time:00:01:16\" unoc elegant fall into the \"time:00:01:18\" unmagnify year upgrade cycle the s24 \"time:00:01:21\" ultra is big and sharp like always now \"time:00:01:25\" bearing a frame made of a metal that \"time:00:01:28\" Apple has all but copyrighted with all \"time:00:01:29\" its Relentless advertising but switching \"time:00:01:31\" to Titanium made sense for the iPhone \"time:00:01:34\" because it\\'s much lighter than the \"time:00:01:37\" stainless steel it replaced letting \"time:00:01:39\" Apple shave between 8 and 9% of mass off \"time:00:01:41\" the phone the titanium on the s24 ultra \"time:00:01:43\" replaces aluminum on the s23 ultra \"time:00:01:47\" making the 24 1 G lighter than its \"time:00:01:49\" predecessor and because of the way \"time:00:01:53\" titanium takes color Samsung is \"time:00:01:55\" consigned to a similarly drab palette as \"time:00:01:57\" as the iPhone for this generation with \"time:00:02:00\" options ranging from slightly warmer \"time:00:02:02\" than the iPhone gray to uh I don\\'t know \"time:00:02:05\" whatever this is half-hearted \"time:00:02:09\" tapioca though I admit I do like the \"time:00:02:10\" purple one and samsung.com has \"time:00:02:13\" additional color ways to satisfy \"time:00:02:15\" appetites both subtle and \"time:00:02:17\" gross there are changes here I \"time:00:02:21\" appreciate ones that make a practical \"time:00:02:23\" difference the display is brighter and \"time:00:02:26\" covered by a stronger and less \"time:00:02:28\" reflective Gorilla Glass which means the \"time:00:02:30\" screen that was already the best you \"time:00:02:32\" could find on a phone is somehow even \"time:00:02:33\" better and the bezels bracketing it \"time:00:02:36\" aren\\'t just Slimmer they\\'re now \"time:00:02:38\" symmetrical I was ready to wrap it up \"time:00:02:42\" there all dejected like when an \"time:00:02:44\" eagle-eyed Samsung rep noticed my \"time:00:02:46\" frustrated apathy and directed me to \"time:00:02:48\" this wall of Wonder I somehow completely \"time:00:02:50\" missed the flip suitcases that came out \"time:00:02:54\" for the Galaxy flip 5 last year which is \"time:00:02:56\" a shame because they\\'re really really \"time:00:02:58\" cool you slap one of these back plates \"time:00:03:00\" onto the phone and a little NFC tag \"time:00:03:02\" inside the plate triggers an automatic \"time:00:03:04\" download of an animated wallpaper to \"time:00:03:06\" match this isn\\'t the first time I\\'ve \"time:00:03:09\" seen something like this I think Yola \"time:00:03:11\" was the first to do it or at least the \"time:00:03:13\" first one that hit my radar about a \"time:00:03:15\" decade ago but it\\'s such a cool clever \"time:00:03:17\" and simple way to customize your phone \"time:00:03:20\" the only thing I\\'d change is to make it \"time:00:03:24\" properly magnetic like a moto mod as \"time:00:03:25\" shipped the plate won\\'t stick to your \"time:00:03:29\" phone by itself you need to install the \"time:00:03:30\" included bumper border to keep it in \"time:00:03:32\" place oh and speaking of magnets that \"time:00:03:35\" aren\\'t there while the phone is capable \"time:00:03:37\" of wireless charging the new ch2 \"time:00:03:40\" standard which basically gives Android \"time:00:03:43\" phones mag safe yeah that\\'s not here \"time:00:03:45\" maybe that\\'s because magnets screw up \"time:00:03:48\" the S Pen but let\\'s be real if Samsung \"time:00:03:50\" wanted to make this work it could have \"time:00:03:52\" engineered its way around \"time:00:03:54\" it instead Samsung F focused on making a \"time:00:03:58\" product it could package as the AI phone \"time:00:04:00\" I know the term AI has been so \"time:00:04:04\" thoroughly buzzword ified as to become \"time:00:04:06\" basically meaningless but it is useful \"time:00:04:08\" given the proper context as I said on \"time:00:04:10\" mediat techs living in the future \"time:00:04:13\" podcast you can think of AI as a kind of \"time:00:04:15\" seasoning like adding spices to a meal \"time:00:04:19\" adding AI to different parts of a device \"time:00:04:21\" can enhance and extend the capabilities \"time:00:04:24\" of that device on the \"time:00:04:26\" whole Samsung has seasoned quite a bit \"time:00:04:29\" of the s24 ultra with generative Ai and \"time:00:04:32\" it\\'s set up a ton of demos for us to try \"time:00:04:35\" in Los Vegas check out The Interpreter \"time:00:04:37\" which I used to have an in-person \"time:00:04:40\" conversation with a Spanish-speaking \"time:00:04:42\" presenter I desperately need to find a \"time:00:04:44\" library \"time:00:04:47\" immediately \"time:00:04:55\" nice \"time:00:04:59\" you know if you make a r there you\\'ll \"time:00:05:03\" find \"time:00:05:05\" it okay but what about a beer \"time:00:05:07\" afterwards the library also serves \"time:00:05:21\" [Laughter] \"time:00:05:23\" beer what a great place thank you now of \"time:00:05:26\" course you\\'ve been able to use your \"time:00:05:30\" phone to translate conversations for \"time:00:05:31\" years the difference here is that the \"time:00:05:33\" processing is happening on the phone \"time:00:05:35\" instead of in the cloud that helps it \"time:00:05:38\" stay fairly Speedy even if your data \"time:00:05:40\" connection is slow and if you\\'re in an \"time:00:05:42\" area with no signal at all it\\'ll still \"time:00:05:44\" work that translation is also built into \"time:00:05:46\" the Samsung dialer so if you make a \"time:00:05:48\" phone call to someone who speaks a \"time:00:05:50\" different language you get a realtime \"time:00:05:51\" Robo translation that works pretty well \"time:00:05:54\" at least if you\\'re asking a staged \"time:00:05:56\" Samsung presenter where to find a cheese \"time:00:05:58\" Berger in Korean of \"time:00:06:00\" course I\\'m glad to hear that but it \"time:00:06:02\" works somewhat less well if you\\'re \"time:00:06:06\" talking to your sister in France who\\'s \"time:00:06:08\" fluent in French and who tells you that \"time:00:06:10\" the translation leaves room for \"time:00:06:12\" improvement okay what the translation is \"time:00:06:15\" do I think it\\'s not top it\\'s not great \"time:00:06:18\" it\\'s not very correct and L you think \"time:00:06:21\" she\\'s not as fluent as she thinks she is \"time:00:06:23\" these findings are somewhat \"time:00:06:26\" substantiated by Gadget matches Michael \"time:00:06:26\" Josh in his video \"time:00:06:28\" here or butter chicken recipe lots of \"time:00:06:30\" you love and World Kim\\'s \"time:00:06:34\" recipe okay so it\\'s not really doing an \"time:00:06:36\" exact translation \"time:00:06:39\" absolutely what else can you do with \"time:00:06:41\" Galaxy AI big asterisk on that brand \"time:00:06:43\" name that I\\'ll come back to in a bit on \"time:00:06:46\" the positive side of the patronic Divide \"time:00:06:48\" I think my favorite AI feature is the \"time:00:06:51\" new voice recorder which can not only \"time:00:06:54\" transcribe a conversation but now also \"time:00:06:56\" summarize it so you don\\'t need to read \"time:00:06:58\" through the entire transcript to \"time:00:07:00\" remember key points I tested this by \"time:00:07:01\" recording the Android police podcast \"time:00:07:04\" which yielded a pretty solid summary and \"time:00:07:06\" then I used it in real life first on a \"time:00:07:08\" goom Market call with the clicks team \"time:00:07:11\" and then in a session with my \"time:00:07:13\" therapist no I\\'m not going to show you \"time:00:07:15\" that conversation but seeing our call \"time:00:07:17\" broken down into a succinct mostly \"time:00:07:20\" coherent outline you know I I could see \"time:00:07:22\" this being really helpful to review \"time:00:07:25\" before my next \"time:00:07:26\" session I found that therapist through \"time:00:07:28\" an online counseling service by the way \"time:00:07:30\" and that would be a great segue into a \"time:00:07:33\" sponsor spot if they were my \"time:00:07:35\" sponsor no today\\'s sponsor is a better \"time:00:07:41\" form of superior assistance T \"time:00:07:44\" Mobile fun fact when I used to be a \"time:00:07:49\" mobile phone salesman the only unlimited \"time:00:07:51\" plan I could offer cost $200 a month \"time:00:07:53\" that yeah I never sold a single one so \"time:00:07:57\" it\\'s it\\'s kind of crazy to me that today \"time:00:07:59\" you can get unlimited everything for $25 \"time:00:08:01\" a month from my sponsor T Mobile those \"time:00:08:04\" 25 bucks get you 35 gigs of data 5 gigs \"time:00:08:07\" of mobile hotspot so you can stay \"time:00:08:10\" connected from your laptop and unlimited \"time:00:08:12\" text and talk including free calls to \"time:00:08:15\" over 60 countries or you can build your \"time:00:08:17\" own phone plan starting at $5 a month \"time:00:08:20\" and you can upgrade or downgrade \"time:00:08:22\" whenever you want because T is that \"time:00:08:24\" flexible you\\'ll enjoy a smooth switch to \"time:00:08:27\" T no contract no hidden fees and no need \"time:00:08:29\" to buy a new phone as long as yours is \"time:00:08:32\" compatible order your sim online from \"time:00:08:35\" t.com or activate instantly with their \"time:00:08:37\" eim option te it\\'s premium phone service \"time:00:08:39\" without the premium price hit the link \"time:00:08:43\" in the description to try him out and \"time:00:08:46\" tell them Mr mobile sent \"time:00:08:47\" [Music] \"time:00:08:50\" you all right back to the hardware but \"time:00:08:52\" sticking with the smarts there\\'s a \"time:00:08:54\" generous helping of generative AI in the \"time:00:08:57\" these cameras generative fill for \"time:00:08:59\" filling in the frame if you need to \"time:00:09:02\" adjust your horizon making a subject \"time:00:09:03\" bigger or smaller or moving it for \"time:00:09:05\" whatever reason oh and something I \"time:00:09:08\" actually like the shadow removal in \"time:00:09:10\" Samsung\\'s photo editor is truly Next \"time:00:09:13\" Level props to techisode TV for pointing \"time:00:09:16\" that out to me also you\\'ve probably seen \"time:00:09:19\" this neat trick already you can press \"time:00:09:21\" and hold a video your shot to create a \"time:00:09:22\" slow motion version and this works even \"time:00:09:24\" if you weren\\'t shooting in slow-mo for \"time:00:09:27\" the same reason everything on a hotel TV \"time:00:09:29\" looks like a European soap opera the \"time:00:09:32\" device is adding artificial frames \"time:00:09:34\" between the real ones in order to smooth \"time:00:09:36\" out what would otherwise be a juty \"time:00:09:39\" stutter \"time:00:09:41\" Fest as for the Optics that feed those \"time:00:09:42\" alos well Samsung made the controversial \"time:00:09:45\" decision to swap last year\\'s 10x Zoom \"time:00:09:47\" for a higher resolution 5x zoom on this \"time:00:09:50\" one based on user data that suggested \"time:00:09:53\" people used 5x more often in the past I \"time:00:09:55\" might have spent the next 10 minutes \"time:00:09:58\" weighing whether it does or doesn\\'t \"time:00:10:00\" matter but in truth I don\\'t think it \"time:00:10:02\" does when I posted s23 versus s24 \"time:00:10:05\" samples from San Jose followers on \"time:00:10:08\" threads said they couldn\\'t tell much of \"time:00:10:10\" a difference thanks in part to social \"time:00:10:12\" media compression that most photos are \"time:00:10:14\" going to go through anyway look pixel \"time:00:10:16\" peeping is a noble profession but from \"time:00:10:18\" my perspective if anything the camera \"time:00:10:20\" shift is just another in a series of \"time:00:10:23\" shruggle decisions probably invisible to \"time:00:10:25\" most folks because the phone is still \"time:00:10:28\" capable of more zoom performance than \"time:00:10:30\" almost any other in the US and offset by \"time:00:10:31\" better video stabilization which I sort \"time:00:10:34\" of Saw sometimes and greater \"time:00:10:37\" compatibility with social media apps \"time:00:10:40\" like \"time:00:10:42\" Instagram yeah \"time:00:10:42\" sure ah Oh What a \"time:00:10:45\" Feeling if the camera shakeup irritates \"time:00:10:49\" anyone it\\'s those of us oldtimers who \"time:00:10:51\" remember the old Samsung the company \"time:00:10:54\" that wouldn\\'t feel the need to remove a \"time:00:10:56\" camera in order to add add another that \"time:00:10:58\" Samsung would have said hey for 1,300 \"time:00:11:01\" bucks you get five cameras on the back \"time:00:11:03\" instead of four but um those days it \"time:00:11:05\" seems are behind \"time:00:11:09\" [Music] \"time:00:11:11\" us hey I owe you an asterisk if you \"time:00:11:15\" guessed it\\'s about Samsung potentially \"time:00:11:19\" charging for its AI features after 2025 \"time:00:11:21\" well guess again honestly that doesn\\'t \"time:00:11:24\" surprise me everything is moving to a \"time:00:11:27\" subscription ion model these days and \"time:00:11:29\" from one perspective might actually be a \"time:00:11:30\" good thing in that it would incentivize \"time:00:11:32\" Samsung to keep improving these features \"time:00:11:34\" if Samsung were the one making them and \"time:00:11:37\" that\\'s the real asterisk a lot of Galaxy \"time:00:11:41\" AI depends on Google AI specifically the \"time:00:11:43\" Gemini AI model so while Samsung built \"time:00:11:47\" the apps that tap into Gemini and it \"time:00:11:51\" gets first crack at them on the s24 many \"time:00:11:53\" of these features will come to other \"time:00:11:56\" Android phones and some are already \"time:00:11:57\" there Circle to search the most talked \"time:00:12:00\" about new feature is coming to the pixel \"time:00:12:02\" 8 the same day it launches on the s24 by \"time:00:12:04\" some accounts the pixel\\'s new voice memo \"time:00:12:08\" summary is already better than Samsung\\'s \"time:00:12:09\" and many of the photo editing features \"time:00:12:12\" already have Google \"time:00:12:14\" equivalents and that\\'s why I come away \"time:00:12:17\" from 9 days with the s24 ultra somewhat \"time:00:12:19\" underwhelmed not because it\\'s not \"time:00:12:24\" impressive but because most of the \"time:00:12:25\" things that impress me won\\'t stay unique \"time:00:12:27\" to this phone for long as that same \"time:00:12:30\" Android police podcast episode noted \"time:00:12:33\" Samsung has seldom been known for \"time:00:12:35\" pushing the envelope on software where \"time:00:12:37\" it usually shines is in hardware and \"time:00:12:39\" while this Hardware is very good and the \"time:00:12:42\" 7-year update promise is wonderful and \"time:00:12:45\" the tradein deals are as insane as ever \"time:00:12:48\" I just can\\'t help but feel this year\\'s \"time:00:12:51\" Ultra doesn\\'t totally justify its asking \"time:00:12:53\" price \"time:00:12:58\" this video was filmed partially on \"time:00:13:01\" location at Samsung unpacked in San Jose \"time:00:13:03\" California for which Samsung provided \"time:00:13:05\" travel lodging and content capture \"time:00:13:06\" opportunities including a redwood forest \"time:00:13:08\" train ride and a visit to the Santa Cruz \"time:00:13:10\" Mystery \"time:00:13:12\" Spot however as always the company had \"time:00:13:13\" no editorial input into this review nor \"time:00:13:16\" did I give Samsung copy approval \"time:00:13:18\" privileges or even an early preview the \"time:00:13:20\" loone sponsor of this video is T \"time:00:13:22\" Mobile Please Subscribe if you\\'d like to \"time:00:13:25\" see more videos like this until next \"time:00:13:28\" time from Michael Fischer Captain two \"time:00:13:31\" phones on threads thanks for \"time:00:13:32\" watching and stay mobile my \"time:00:13:34\" [Music] \"time:00:13:39\" friends \"time:00:13:54\"'"
      ]
     },
     "execution_count": 4,
     "metadata": {},
     "output_type": "execute_result"
    }
   ],
   "source": [
    "youtube_transcript(\"GuErWFsHSzM&pp\")"
   ]
  },
  {
   "cell_type": "markdown",
   "metadata": {},
   "source": [
    "## Video title retrival"
   ]
  },
  {
   "cell_type": "code",
   "execution_count": 5,
   "metadata": {},
   "outputs": [
    {
     "name": "stdout",
     "output_type": "stream",
     "text": [
      "Samsung S24 Ultra Review: Galaxy Brain\n"
     ]
    }
   ],
   "source": [
    "from bs4 import BeautifulSoup\n",
    "import requests\n",
    "\n",
    "url = \"https://www.youtube.com/watch?v=GuErWFsHSzM\"\n",
    "r = requests.get(url) \n",
    "s = BeautifulSoup(r.text, \"html.parser\") \n",
    "title = s.find(\"meta\", itemprop=\"name\")[\"content\"]\n",
    "\n",
    "print(title)"
   ]
  },
  {
   "cell_type": "code",
   "execution_count": 6,
   "metadata": {},
   "outputs": [],
   "source": [
    "d = round(float(0.63))"
   ]
  },
  {
   "cell_type": "code",
   "execution_count": 7,
   "metadata": {},
   "outputs": [
    {
     "name": "stdout",
     "output_type": "stream",
     "text": [
      "1\n"
     ]
    }
   ],
   "source": [
    "print(d)"
   ]
  },
  {
   "cell_type": "markdown",
   "metadata": {},
   "source": [
    "# OpenAI ChatGPT"
   ]
  },
  {
   "cell_type": "code",
   "execution_count": 9,
   "metadata": {},
   "outputs": [],
   "source": [
    "import os\n",
    "from dotenv import load_dotenv\n",
    "load_dotenv()\n",
    "from openai import OpenAI\n",
    "client =   OpenAI(api_key=os.getenv(\"OPENAI_CHATPGPT_API_KEY\"))"
   ]
  },
  {
   "cell_type": "code",
   "execution_count": 10,
   "metadata": {},
   "outputs": [],
   "source": [
    "model=\"gpt-3.5-turbo\"\n",
    "message = [{\"role\": \"system\", \"content\": \"who are you\"}]"
   ]
  },
  {
   "cell_type": "code",
   "execution_count": 11,
   "metadata": {},
   "outputs": [
    {
     "ename": "RateLimitError",
     "evalue": "Error code: 429 - {'error': {'message': 'You exceeded your current quota, please check your plan and billing details. For more information on this error, read the docs: https://platform.openai.com/docs/guides/error-codes/api-errors.', 'type': 'insufficient_quota', 'param': None, 'code': 'insufficient_quota'}}",
     "output_type": "error",
     "traceback": [
      "\u001b[0;31m---------------------------------------------------------------------------\u001b[0m",
      "\u001b[0;31mRateLimitError\u001b[0m                            Traceback (most recent call last)",
      "Cell \u001b[0;32mIn[11], line 1\u001b[0m\n\u001b[0;32m----> 1\u001b[0m response \u001b[38;5;241m=\u001b[39m \u001b[43mclient\u001b[49m\u001b[38;5;241;43m.\u001b[39;49m\u001b[43mchat\u001b[49m\u001b[38;5;241;43m.\u001b[39;49m\u001b[43mcompletions\u001b[49m\u001b[38;5;241;43m.\u001b[39;49m\u001b[43mcreate\u001b[49m\u001b[43m(\u001b[49m\n\u001b[1;32m      2\u001b[0m \u001b[43m  \u001b[49m\u001b[43mmodel\u001b[49m\u001b[38;5;241;43m=\u001b[39;49m\u001b[43mmodel\u001b[49m\u001b[43m,\u001b[49m\n\u001b[1;32m      3\u001b[0m \u001b[43m  \u001b[49m\u001b[43mmessages\u001b[49m\u001b[38;5;241;43m=\u001b[39;49m\u001b[43mmessage\u001b[49m\n\u001b[1;32m      4\u001b[0m \u001b[43m)\u001b[49m \n",
      "File \u001b[0;32m~/Documents/YTtimestamp/ai-video-summarizer-and-timestamp-generator-LLM-p-main/.venv/lib/python3.12/site-packages/openai/_utils/_utils.py:277\u001b[0m, in \u001b[0;36mrequired_args.<locals>.inner.<locals>.wrapper\u001b[0;34m(*args, **kwargs)\u001b[0m\n\u001b[1;32m    275\u001b[0m             msg \u001b[38;5;241m=\u001b[39m \u001b[38;5;124mf\u001b[39m\u001b[38;5;124m\"\u001b[39m\u001b[38;5;124mMissing required argument: \u001b[39m\u001b[38;5;132;01m{\u001b[39;00mquote(missing[\u001b[38;5;241m0\u001b[39m])\u001b[38;5;132;01m}\u001b[39;00m\u001b[38;5;124m\"\u001b[39m\n\u001b[1;32m    276\u001b[0m     \u001b[38;5;28;01mraise\u001b[39;00m \u001b[38;5;167;01mTypeError\u001b[39;00m(msg)\n\u001b[0;32m--> 277\u001b[0m \u001b[38;5;28;01mreturn\u001b[39;00m \u001b[43mfunc\u001b[49m\u001b[43m(\u001b[49m\u001b[38;5;241;43m*\u001b[39;49m\u001b[43margs\u001b[49m\u001b[43m,\u001b[49m\u001b[43m \u001b[49m\u001b[38;5;241;43m*\u001b[39;49m\u001b[38;5;241;43m*\u001b[39;49m\u001b[43mkwargs\u001b[49m\u001b[43m)\u001b[49m\n",
      "File \u001b[0;32m~/Documents/YTtimestamp/ai-video-summarizer-and-timestamp-generator-LLM-p-main/.venv/lib/python3.12/site-packages/openai/resources/chat/completions.py:579\u001b[0m, in \u001b[0;36mCompletions.create\u001b[0;34m(self, messages, model, frequency_penalty, function_call, functions, logit_bias, logprobs, max_tokens, n, presence_penalty, response_format, seed, stop, stream, temperature, tool_choice, tools, top_logprobs, top_p, user, extra_headers, extra_query, extra_body, timeout)\u001b[0m\n\u001b[1;32m    548\u001b[0m \u001b[38;5;129m@required_args\u001b[39m([\u001b[38;5;124m\"\u001b[39m\u001b[38;5;124mmessages\u001b[39m\u001b[38;5;124m\"\u001b[39m, \u001b[38;5;124m\"\u001b[39m\u001b[38;5;124mmodel\u001b[39m\u001b[38;5;124m\"\u001b[39m], [\u001b[38;5;124m\"\u001b[39m\u001b[38;5;124mmessages\u001b[39m\u001b[38;5;124m\"\u001b[39m, \u001b[38;5;124m\"\u001b[39m\u001b[38;5;124mmodel\u001b[39m\u001b[38;5;124m\"\u001b[39m, \u001b[38;5;124m\"\u001b[39m\u001b[38;5;124mstream\u001b[39m\u001b[38;5;124m\"\u001b[39m])\n\u001b[1;32m    549\u001b[0m \u001b[38;5;28;01mdef\u001b[39;00m \u001b[38;5;21mcreate\u001b[39m(\n\u001b[1;32m    550\u001b[0m     \u001b[38;5;28mself\u001b[39m,\n\u001b[0;32m   (...)\u001b[0m\n\u001b[1;32m    577\u001b[0m     timeout: \u001b[38;5;28mfloat\u001b[39m \u001b[38;5;241m|\u001b[39m httpx\u001b[38;5;241m.\u001b[39mTimeout \u001b[38;5;241m|\u001b[39m \u001b[38;5;28;01mNone\u001b[39;00m \u001b[38;5;241m|\u001b[39m NotGiven \u001b[38;5;241m=\u001b[39m NOT_GIVEN,\n\u001b[1;32m    578\u001b[0m ) \u001b[38;5;241m-\u001b[39m\u001b[38;5;241m>\u001b[39m ChatCompletion \u001b[38;5;241m|\u001b[39m Stream[ChatCompletionChunk]:\n\u001b[0;32m--> 579\u001b[0m     \u001b[38;5;28;01mreturn\u001b[39;00m \u001b[38;5;28;43mself\u001b[39;49m\u001b[38;5;241;43m.\u001b[39;49m\u001b[43m_post\u001b[49m\u001b[43m(\u001b[49m\n\u001b[1;32m    580\u001b[0m \u001b[43m        \u001b[49m\u001b[38;5;124;43m\"\u001b[39;49m\u001b[38;5;124;43m/chat/completions\u001b[39;49m\u001b[38;5;124;43m\"\u001b[39;49m\u001b[43m,\u001b[49m\n\u001b[1;32m    581\u001b[0m \u001b[43m        \u001b[49m\u001b[43mbody\u001b[49m\u001b[38;5;241;43m=\u001b[39;49m\u001b[43mmaybe_transform\u001b[49m\u001b[43m(\u001b[49m\n\u001b[1;32m    582\u001b[0m \u001b[43m            \u001b[49m\u001b[43m{\u001b[49m\n\u001b[1;32m    583\u001b[0m \u001b[43m                \u001b[49m\u001b[38;5;124;43m\"\u001b[39;49m\u001b[38;5;124;43mmessages\u001b[39;49m\u001b[38;5;124;43m\"\u001b[39;49m\u001b[43m:\u001b[49m\u001b[43m \u001b[49m\u001b[43mmessages\u001b[49m\u001b[43m,\u001b[49m\n\u001b[1;32m    584\u001b[0m \u001b[43m                \u001b[49m\u001b[38;5;124;43m\"\u001b[39;49m\u001b[38;5;124;43mmodel\u001b[39;49m\u001b[38;5;124;43m\"\u001b[39;49m\u001b[43m:\u001b[49m\u001b[43m \u001b[49m\u001b[43mmodel\u001b[49m\u001b[43m,\u001b[49m\n\u001b[1;32m    585\u001b[0m \u001b[43m                \u001b[49m\u001b[38;5;124;43m\"\u001b[39;49m\u001b[38;5;124;43mfrequency_penalty\u001b[39;49m\u001b[38;5;124;43m\"\u001b[39;49m\u001b[43m:\u001b[49m\u001b[43m \u001b[49m\u001b[43mfrequency_penalty\u001b[49m\u001b[43m,\u001b[49m\n\u001b[1;32m    586\u001b[0m \u001b[43m                \u001b[49m\u001b[38;5;124;43m\"\u001b[39;49m\u001b[38;5;124;43mfunction_call\u001b[39;49m\u001b[38;5;124;43m\"\u001b[39;49m\u001b[43m:\u001b[49m\u001b[43m \u001b[49m\u001b[43mfunction_call\u001b[49m\u001b[43m,\u001b[49m\n\u001b[1;32m    587\u001b[0m \u001b[43m                \u001b[49m\u001b[38;5;124;43m\"\u001b[39;49m\u001b[38;5;124;43mfunctions\u001b[39;49m\u001b[38;5;124;43m\"\u001b[39;49m\u001b[43m:\u001b[49m\u001b[43m \u001b[49m\u001b[43mfunctions\u001b[49m\u001b[43m,\u001b[49m\n\u001b[1;32m    588\u001b[0m \u001b[43m                \u001b[49m\u001b[38;5;124;43m\"\u001b[39;49m\u001b[38;5;124;43mlogit_bias\u001b[39;49m\u001b[38;5;124;43m\"\u001b[39;49m\u001b[43m:\u001b[49m\u001b[43m \u001b[49m\u001b[43mlogit_bias\u001b[49m\u001b[43m,\u001b[49m\n\u001b[1;32m    589\u001b[0m \u001b[43m                \u001b[49m\u001b[38;5;124;43m\"\u001b[39;49m\u001b[38;5;124;43mlogprobs\u001b[39;49m\u001b[38;5;124;43m\"\u001b[39;49m\u001b[43m:\u001b[49m\u001b[43m \u001b[49m\u001b[43mlogprobs\u001b[49m\u001b[43m,\u001b[49m\n\u001b[1;32m    590\u001b[0m \u001b[43m                \u001b[49m\u001b[38;5;124;43m\"\u001b[39;49m\u001b[38;5;124;43mmax_tokens\u001b[39;49m\u001b[38;5;124;43m\"\u001b[39;49m\u001b[43m:\u001b[49m\u001b[43m \u001b[49m\u001b[43mmax_tokens\u001b[49m\u001b[43m,\u001b[49m\n\u001b[1;32m    591\u001b[0m \u001b[43m                \u001b[49m\u001b[38;5;124;43m\"\u001b[39;49m\u001b[38;5;124;43mn\u001b[39;49m\u001b[38;5;124;43m\"\u001b[39;49m\u001b[43m:\u001b[49m\u001b[43m \u001b[49m\u001b[43mn\u001b[49m\u001b[43m,\u001b[49m\n\u001b[1;32m    592\u001b[0m \u001b[43m                \u001b[49m\u001b[38;5;124;43m\"\u001b[39;49m\u001b[38;5;124;43mpresence_penalty\u001b[39;49m\u001b[38;5;124;43m\"\u001b[39;49m\u001b[43m:\u001b[49m\u001b[43m \u001b[49m\u001b[43mpresence_penalty\u001b[49m\u001b[43m,\u001b[49m\n\u001b[1;32m    593\u001b[0m \u001b[43m                \u001b[49m\u001b[38;5;124;43m\"\u001b[39;49m\u001b[38;5;124;43mresponse_format\u001b[39;49m\u001b[38;5;124;43m\"\u001b[39;49m\u001b[43m:\u001b[49m\u001b[43m \u001b[49m\u001b[43mresponse_format\u001b[49m\u001b[43m,\u001b[49m\n\u001b[1;32m    594\u001b[0m \u001b[43m                \u001b[49m\u001b[38;5;124;43m\"\u001b[39;49m\u001b[38;5;124;43mseed\u001b[39;49m\u001b[38;5;124;43m\"\u001b[39;49m\u001b[43m:\u001b[49m\u001b[43m \u001b[49m\u001b[43mseed\u001b[49m\u001b[43m,\u001b[49m\n\u001b[1;32m    595\u001b[0m \u001b[43m                \u001b[49m\u001b[38;5;124;43m\"\u001b[39;49m\u001b[38;5;124;43mstop\u001b[39;49m\u001b[38;5;124;43m\"\u001b[39;49m\u001b[43m:\u001b[49m\u001b[43m \u001b[49m\u001b[43mstop\u001b[49m\u001b[43m,\u001b[49m\n\u001b[1;32m    596\u001b[0m \u001b[43m                \u001b[49m\u001b[38;5;124;43m\"\u001b[39;49m\u001b[38;5;124;43mstream\u001b[39;49m\u001b[38;5;124;43m\"\u001b[39;49m\u001b[43m:\u001b[49m\u001b[43m \u001b[49m\u001b[43mstream\u001b[49m\u001b[43m,\u001b[49m\n\u001b[1;32m    597\u001b[0m \u001b[43m                \u001b[49m\u001b[38;5;124;43m\"\u001b[39;49m\u001b[38;5;124;43mtemperature\u001b[39;49m\u001b[38;5;124;43m\"\u001b[39;49m\u001b[43m:\u001b[49m\u001b[43m \u001b[49m\u001b[43mtemperature\u001b[49m\u001b[43m,\u001b[49m\n\u001b[1;32m    598\u001b[0m \u001b[43m                \u001b[49m\u001b[38;5;124;43m\"\u001b[39;49m\u001b[38;5;124;43mtool_choice\u001b[39;49m\u001b[38;5;124;43m\"\u001b[39;49m\u001b[43m:\u001b[49m\u001b[43m \u001b[49m\u001b[43mtool_choice\u001b[49m\u001b[43m,\u001b[49m\n\u001b[1;32m    599\u001b[0m \u001b[43m                \u001b[49m\u001b[38;5;124;43m\"\u001b[39;49m\u001b[38;5;124;43mtools\u001b[39;49m\u001b[38;5;124;43m\"\u001b[39;49m\u001b[43m:\u001b[49m\u001b[43m \u001b[49m\u001b[43mtools\u001b[49m\u001b[43m,\u001b[49m\n\u001b[1;32m    600\u001b[0m \u001b[43m                \u001b[49m\u001b[38;5;124;43m\"\u001b[39;49m\u001b[38;5;124;43mtop_logprobs\u001b[39;49m\u001b[38;5;124;43m\"\u001b[39;49m\u001b[43m:\u001b[49m\u001b[43m \u001b[49m\u001b[43mtop_logprobs\u001b[49m\u001b[43m,\u001b[49m\n\u001b[1;32m    601\u001b[0m \u001b[43m                \u001b[49m\u001b[38;5;124;43m\"\u001b[39;49m\u001b[38;5;124;43mtop_p\u001b[39;49m\u001b[38;5;124;43m\"\u001b[39;49m\u001b[43m:\u001b[49m\u001b[43m \u001b[49m\u001b[43mtop_p\u001b[49m\u001b[43m,\u001b[49m\n\u001b[1;32m    602\u001b[0m \u001b[43m                \u001b[49m\u001b[38;5;124;43m\"\u001b[39;49m\u001b[38;5;124;43muser\u001b[39;49m\u001b[38;5;124;43m\"\u001b[39;49m\u001b[43m:\u001b[49m\u001b[43m \u001b[49m\u001b[43muser\u001b[49m\u001b[43m,\u001b[49m\n\u001b[1;32m    603\u001b[0m \u001b[43m            \u001b[49m\u001b[43m}\u001b[49m\u001b[43m,\u001b[49m\n\u001b[1;32m    604\u001b[0m \u001b[43m            \u001b[49m\u001b[43mcompletion_create_params\u001b[49m\u001b[38;5;241;43m.\u001b[39;49m\u001b[43mCompletionCreateParams\u001b[49m\u001b[43m,\u001b[49m\n\u001b[1;32m    605\u001b[0m \u001b[43m        \u001b[49m\u001b[43m)\u001b[49m\u001b[43m,\u001b[49m\n\u001b[1;32m    606\u001b[0m \u001b[43m        \u001b[49m\u001b[43moptions\u001b[49m\u001b[38;5;241;43m=\u001b[39;49m\u001b[43mmake_request_options\u001b[49m\u001b[43m(\u001b[49m\n\u001b[1;32m    607\u001b[0m \u001b[43m            \u001b[49m\u001b[43mextra_headers\u001b[49m\u001b[38;5;241;43m=\u001b[39;49m\u001b[43mextra_headers\u001b[49m\u001b[43m,\u001b[49m\u001b[43m \u001b[49m\u001b[43mextra_query\u001b[49m\u001b[38;5;241;43m=\u001b[39;49m\u001b[43mextra_query\u001b[49m\u001b[43m,\u001b[49m\u001b[43m \u001b[49m\u001b[43mextra_body\u001b[49m\u001b[38;5;241;43m=\u001b[39;49m\u001b[43mextra_body\u001b[49m\u001b[43m,\u001b[49m\u001b[43m \u001b[49m\u001b[43mtimeout\u001b[49m\u001b[38;5;241;43m=\u001b[39;49m\u001b[43mtimeout\u001b[49m\n\u001b[1;32m    608\u001b[0m \u001b[43m        \u001b[49m\u001b[43m)\u001b[49m\u001b[43m,\u001b[49m\n\u001b[1;32m    609\u001b[0m \u001b[43m        \u001b[49m\u001b[43mcast_to\u001b[49m\u001b[38;5;241;43m=\u001b[39;49m\u001b[43mChatCompletion\u001b[49m\u001b[43m,\u001b[49m\n\u001b[1;32m    610\u001b[0m \u001b[43m        \u001b[49m\u001b[43mstream\u001b[49m\u001b[38;5;241;43m=\u001b[39;49m\u001b[43mstream\u001b[49m\u001b[43m \u001b[49m\u001b[38;5;129;43;01mor\u001b[39;49;00m\u001b[43m \u001b[49m\u001b[38;5;28;43;01mFalse\u001b[39;49;00m\u001b[43m,\u001b[49m\n\u001b[1;32m    611\u001b[0m \u001b[43m        \u001b[49m\u001b[43mstream_cls\u001b[49m\u001b[38;5;241;43m=\u001b[39;49m\u001b[43mStream\u001b[49m\u001b[43m[\u001b[49m\u001b[43mChatCompletionChunk\u001b[49m\u001b[43m]\u001b[49m\u001b[43m,\u001b[49m\n\u001b[1;32m    612\u001b[0m \u001b[43m    \u001b[49m\u001b[43m)\u001b[49m\n",
      "File \u001b[0;32m~/Documents/YTtimestamp/ai-video-summarizer-and-timestamp-generator-LLM-p-main/.venv/lib/python3.12/site-packages/openai/_base_client.py:1232\u001b[0m, in \u001b[0;36mSyncAPIClient.post\u001b[0;34m(self, path, cast_to, body, options, files, stream, stream_cls)\u001b[0m\n\u001b[1;32m   1218\u001b[0m \u001b[38;5;28;01mdef\u001b[39;00m \u001b[38;5;21mpost\u001b[39m(\n\u001b[1;32m   1219\u001b[0m     \u001b[38;5;28mself\u001b[39m,\n\u001b[1;32m   1220\u001b[0m     path: \u001b[38;5;28mstr\u001b[39m,\n\u001b[0;32m   (...)\u001b[0m\n\u001b[1;32m   1227\u001b[0m     stream_cls: \u001b[38;5;28mtype\u001b[39m[_StreamT] \u001b[38;5;241m|\u001b[39m \u001b[38;5;28;01mNone\u001b[39;00m \u001b[38;5;241m=\u001b[39m \u001b[38;5;28;01mNone\u001b[39;00m,\n\u001b[1;32m   1228\u001b[0m ) \u001b[38;5;241m-\u001b[39m\u001b[38;5;241m>\u001b[39m ResponseT \u001b[38;5;241m|\u001b[39m _StreamT:\n\u001b[1;32m   1229\u001b[0m     opts \u001b[38;5;241m=\u001b[39m FinalRequestOptions\u001b[38;5;241m.\u001b[39mconstruct(\n\u001b[1;32m   1230\u001b[0m         method\u001b[38;5;241m=\u001b[39m\u001b[38;5;124m\"\u001b[39m\u001b[38;5;124mpost\u001b[39m\u001b[38;5;124m\"\u001b[39m, url\u001b[38;5;241m=\u001b[39mpath, json_data\u001b[38;5;241m=\u001b[39mbody, files\u001b[38;5;241m=\u001b[39mto_httpx_files(files), \u001b[38;5;241m*\u001b[39m\u001b[38;5;241m*\u001b[39moptions\n\u001b[1;32m   1231\u001b[0m     )\n\u001b[0;32m-> 1232\u001b[0m     \u001b[38;5;28;01mreturn\u001b[39;00m cast(ResponseT, \u001b[38;5;28;43mself\u001b[39;49m\u001b[38;5;241;43m.\u001b[39;49m\u001b[43mrequest\u001b[49m\u001b[43m(\u001b[49m\u001b[43mcast_to\u001b[49m\u001b[43m,\u001b[49m\u001b[43m \u001b[49m\u001b[43mopts\u001b[49m\u001b[43m,\u001b[49m\u001b[43m \u001b[49m\u001b[43mstream\u001b[49m\u001b[38;5;241;43m=\u001b[39;49m\u001b[43mstream\u001b[49m\u001b[43m,\u001b[49m\u001b[43m \u001b[49m\u001b[43mstream_cls\u001b[49m\u001b[38;5;241;43m=\u001b[39;49m\u001b[43mstream_cls\u001b[49m\u001b[43m)\u001b[49m)\n",
      "File \u001b[0;32m~/Documents/YTtimestamp/ai-video-summarizer-and-timestamp-generator-LLM-p-main/.venv/lib/python3.12/site-packages/openai/_base_client.py:921\u001b[0m, in \u001b[0;36mSyncAPIClient.request\u001b[0;34m(self, cast_to, options, remaining_retries, stream, stream_cls)\u001b[0m\n\u001b[1;32m    912\u001b[0m \u001b[38;5;28;01mdef\u001b[39;00m \u001b[38;5;21mrequest\u001b[39m(\n\u001b[1;32m    913\u001b[0m     \u001b[38;5;28mself\u001b[39m,\n\u001b[1;32m    914\u001b[0m     cast_to: Type[ResponseT],\n\u001b[0;32m   (...)\u001b[0m\n\u001b[1;32m    919\u001b[0m     stream_cls: \u001b[38;5;28mtype\u001b[39m[_StreamT] \u001b[38;5;241m|\u001b[39m \u001b[38;5;28;01mNone\u001b[39;00m \u001b[38;5;241m=\u001b[39m \u001b[38;5;28;01mNone\u001b[39;00m,\n\u001b[1;32m    920\u001b[0m ) \u001b[38;5;241m-\u001b[39m\u001b[38;5;241m>\u001b[39m ResponseT \u001b[38;5;241m|\u001b[39m _StreamT:\n\u001b[0;32m--> 921\u001b[0m     \u001b[38;5;28;01mreturn\u001b[39;00m \u001b[38;5;28;43mself\u001b[39;49m\u001b[38;5;241;43m.\u001b[39;49m\u001b[43m_request\u001b[49m\u001b[43m(\u001b[49m\n\u001b[1;32m    922\u001b[0m \u001b[43m        \u001b[49m\u001b[43mcast_to\u001b[49m\u001b[38;5;241;43m=\u001b[39;49m\u001b[43mcast_to\u001b[49m\u001b[43m,\u001b[49m\n\u001b[1;32m    923\u001b[0m \u001b[43m        \u001b[49m\u001b[43moptions\u001b[49m\u001b[38;5;241;43m=\u001b[39;49m\u001b[43moptions\u001b[49m\u001b[43m,\u001b[49m\n\u001b[1;32m    924\u001b[0m \u001b[43m        \u001b[49m\u001b[43mstream\u001b[49m\u001b[38;5;241;43m=\u001b[39;49m\u001b[43mstream\u001b[49m\u001b[43m,\u001b[49m\n\u001b[1;32m    925\u001b[0m \u001b[43m        \u001b[49m\u001b[43mstream_cls\u001b[49m\u001b[38;5;241;43m=\u001b[39;49m\u001b[43mstream_cls\u001b[49m\u001b[43m,\u001b[49m\n\u001b[1;32m    926\u001b[0m \u001b[43m        \u001b[49m\u001b[43mremaining_retries\u001b[49m\u001b[38;5;241;43m=\u001b[39;49m\u001b[43mremaining_retries\u001b[49m\u001b[43m,\u001b[49m\n\u001b[1;32m    927\u001b[0m \u001b[43m    \u001b[49m\u001b[43m)\u001b[49m\n",
      "File \u001b[0;32m~/Documents/YTtimestamp/ai-video-summarizer-and-timestamp-generator-LLM-p-main/.venv/lib/python3.12/site-packages/openai/_base_client.py:997\u001b[0m, in \u001b[0;36mSyncAPIClient._request\u001b[0;34m(self, cast_to, options, remaining_retries, stream, stream_cls)\u001b[0m\n\u001b[1;32m    995\u001b[0m \u001b[38;5;28;01mif\u001b[39;00m retries \u001b[38;5;241m>\u001b[39m \u001b[38;5;241m0\u001b[39m \u001b[38;5;129;01mand\u001b[39;00m \u001b[38;5;28mself\u001b[39m\u001b[38;5;241m.\u001b[39m_should_retry(err\u001b[38;5;241m.\u001b[39mresponse):\n\u001b[1;32m    996\u001b[0m     err\u001b[38;5;241m.\u001b[39mresponse\u001b[38;5;241m.\u001b[39mclose()\n\u001b[0;32m--> 997\u001b[0m     \u001b[38;5;28;01mreturn\u001b[39;00m \u001b[38;5;28;43mself\u001b[39;49m\u001b[38;5;241;43m.\u001b[39;49m\u001b[43m_retry_request\u001b[49m\u001b[43m(\u001b[49m\n\u001b[1;32m    998\u001b[0m \u001b[43m        \u001b[49m\u001b[43moptions\u001b[49m\u001b[43m,\u001b[49m\n\u001b[1;32m    999\u001b[0m \u001b[43m        \u001b[49m\u001b[43mcast_to\u001b[49m\u001b[43m,\u001b[49m\n\u001b[1;32m   1000\u001b[0m \u001b[43m        \u001b[49m\u001b[43mretries\u001b[49m\u001b[43m,\u001b[49m\n\u001b[1;32m   1001\u001b[0m \u001b[43m        \u001b[49m\u001b[43merr\u001b[49m\u001b[38;5;241;43m.\u001b[39;49m\u001b[43mresponse\u001b[49m\u001b[38;5;241;43m.\u001b[39;49m\u001b[43mheaders\u001b[49m\u001b[43m,\u001b[49m\n\u001b[1;32m   1002\u001b[0m \u001b[43m        \u001b[49m\u001b[43mstream\u001b[49m\u001b[38;5;241;43m=\u001b[39;49m\u001b[43mstream\u001b[49m\u001b[43m,\u001b[49m\n\u001b[1;32m   1003\u001b[0m \u001b[43m        \u001b[49m\u001b[43mstream_cls\u001b[49m\u001b[38;5;241;43m=\u001b[39;49m\u001b[43mstream_cls\u001b[49m\u001b[43m,\u001b[49m\n\u001b[1;32m   1004\u001b[0m \u001b[43m    \u001b[49m\u001b[43m)\u001b[49m\n\u001b[1;32m   1006\u001b[0m \u001b[38;5;66;03m# If the response is streamed then we need to explicitly read the response\u001b[39;00m\n\u001b[1;32m   1007\u001b[0m \u001b[38;5;66;03m# to completion before attempting to access the response text.\u001b[39;00m\n\u001b[1;32m   1008\u001b[0m \u001b[38;5;28;01mif\u001b[39;00m \u001b[38;5;129;01mnot\u001b[39;00m err\u001b[38;5;241m.\u001b[39mresponse\u001b[38;5;241m.\u001b[39mis_closed:\n",
      "File \u001b[0;32m~/Documents/YTtimestamp/ai-video-summarizer-and-timestamp-generator-LLM-p-main/.venv/lib/python3.12/site-packages/openai/_base_client.py:1045\u001b[0m, in \u001b[0;36mSyncAPIClient._retry_request\u001b[0;34m(self, options, cast_to, remaining_retries, response_headers, stream, stream_cls)\u001b[0m\n\u001b[1;32m   1041\u001b[0m \u001b[38;5;66;03m# In a synchronous context we are blocking the entire thread. Up to the library user to run the client in a\u001b[39;00m\n\u001b[1;32m   1042\u001b[0m \u001b[38;5;66;03m# different thread if necessary.\u001b[39;00m\n\u001b[1;32m   1043\u001b[0m time\u001b[38;5;241m.\u001b[39msleep(timeout)\n\u001b[0;32m-> 1045\u001b[0m \u001b[38;5;28;01mreturn\u001b[39;00m \u001b[38;5;28;43mself\u001b[39;49m\u001b[38;5;241;43m.\u001b[39;49m\u001b[43m_request\u001b[49m\u001b[43m(\u001b[49m\n\u001b[1;32m   1046\u001b[0m \u001b[43m    \u001b[49m\u001b[43moptions\u001b[49m\u001b[38;5;241;43m=\u001b[39;49m\u001b[43moptions\u001b[49m\u001b[43m,\u001b[49m\n\u001b[1;32m   1047\u001b[0m \u001b[43m    \u001b[49m\u001b[43mcast_to\u001b[49m\u001b[38;5;241;43m=\u001b[39;49m\u001b[43mcast_to\u001b[49m\u001b[43m,\u001b[49m\n\u001b[1;32m   1048\u001b[0m \u001b[43m    \u001b[49m\u001b[43mremaining_retries\u001b[49m\u001b[38;5;241;43m=\u001b[39;49m\u001b[43mremaining\u001b[49m\u001b[43m,\u001b[49m\n\u001b[1;32m   1049\u001b[0m \u001b[43m    \u001b[49m\u001b[43mstream\u001b[49m\u001b[38;5;241;43m=\u001b[39;49m\u001b[43mstream\u001b[49m\u001b[43m,\u001b[49m\n\u001b[1;32m   1050\u001b[0m \u001b[43m    \u001b[49m\u001b[43mstream_cls\u001b[49m\u001b[38;5;241;43m=\u001b[39;49m\u001b[43mstream_cls\u001b[49m\u001b[43m,\u001b[49m\n\u001b[1;32m   1051\u001b[0m \u001b[43m\u001b[49m\u001b[43m)\u001b[49m\n",
      "File \u001b[0;32m~/Documents/YTtimestamp/ai-video-summarizer-and-timestamp-generator-LLM-p-main/.venv/lib/python3.12/site-packages/openai/_base_client.py:997\u001b[0m, in \u001b[0;36mSyncAPIClient._request\u001b[0;34m(self, cast_to, options, remaining_retries, stream, stream_cls)\u001b[0m\n\u001b[1;32m    995\u001b[0m \u001b[38;5;28;01mif\u001b[39;00m retries \u001b[38;5;241m>\u001b[39m \u001b[38;5;241m0\u001b[39m \u001b[38;5;129;01mand\u001b[39;00m \u001b[38;5;28mself\u001b[39m\u001b[38;5;241m.\u001b[39m_should_retry(err\u001b[38;5;241m.\u001b[39mresponse):\n\u001b[1;32m    996\u001b[0m     err\u001b[38;5;241m.\u001b[39mresponse\u001b[38;5;241m.\u001b[39mclose()\n\u001b[0;32m--> 997\u001b[0m     \u001b[38;5;28;01mreturn\u001b[39;00m \u001b[38;5;28;43mself\u001b[39;49m\u001b[38;5;241;43m.\u001b[39;49m\u001b[43m_retry_request\u001b[49m\u001b[43m(\u001b[49m\n\u001b[1;32m    998\u001b[0m \u001b[43m        \u001b[49m\u001b[43moptions\u001b[49m\u001b[43m,\u001b[49m\n\u001b[1;32m    999\u001b[0m \u001b[43m        \u001b[49m\u001b[43mcast_to\u001b[49m\u001b[43m,\u001b[49m\n\u001b[1;32m   1000\u001b[0m \u001b[43m        \u001b[49m\u001b[43mretries\u001b[49m\u001b[43m,\u001b[49m\n\u001b[1;32m   1001\u001b[0m \u001b[43m        \u001b[49m\u001b[43merr\u001b[49m\u001b[38;5;241;43m.\u001b[39;49m\u001b[43mresponse\u001b[49m\u001b[38;5;241;43m.\u001b[39;49m\u001b[43mheaders\u001b[49m\u001b[43m,\u001b[49m\n\u001b[1;32m   1002\u001b[0m \u001b[43m        \u001b[49m\u001b[43mstream\u001b[49m\u001b[38;5;241;43m=\u001b[39;49m\u001b[43mstream\u001b[49m\u001b[43m,\u001b[49m\n\u001b[1;32m   1003\u001b[0m \u001b[43m        \u001b[49m\u001b[43mstream_cls\u001b[49m\u001b[38;5;241;43m=\u001b[39;49m\u001b[43mstream_cls\u001b[49m\u001b[43m,\u001b[49m\n\u001b[1;32m   1004\u001b[0m \u001b[43m    \u001b[49m\u001b[43m)\u001b[49m\n\u001b[1;32m   1006\u001b[0m \u001b[38;5;66;03m# If the response is streamed then we need to explicitly read the response\u001b[39;00m\n\u001b[1;32m   1007\u001b[0m \u001b[38;5;66;03m# to completion before attempting to access the response text.\u001b[39;00m\n\u001b[1;32m   1008\u001b[0m \u001b[38;5;28;01mif\u001b[39;00m \u001b[38;5;129;01mnot\u001b[39;00m err\u001b[38;5;241m.\u001b[39mresponse\u001b[38;5;241m.\u001b[39mis_closed:\n",
      "File \u001b[0;32m~/Documents/YTtimestamp/ai-video-summarizer-and-timestamp-generator-LLM-p-main/.venv/lib/python3.12/site-packages/openai/_base_client.py:1045\u001b[0m, in \u001b[0;36mSyncAPIClient._retry_request\u001b[0;34m(self, options, cast_to, remaining_retries, response_headers, stream, stream_cls)\u001b[0m\n\u001b[1;32m   1041\u001b[0m \u001b[38;5;66;03m# In a synchronous context we are blocking the entire thread. Up to the library user to run the client in a\u001b[39;00m\n\u001b[1;32m   1042\u001b[0m \u001b[38;5;66;03m# different thread if necessary.\u001b[39;00m\n\u001b[1;32m   1043\u001b[0m time\u001b[38;5;241m.\u001b[39msleep(timeout)\n\u001b[0;32m-> 1045\u001b[0m \u001b[38;5;28;01mreturn\u001b[39;00m \u001b[38;5;28;43mself\u001b[39;49m\u001b[38;5;241;43m.\u001b[39;49m\u001b[43m_request\u001b[49m\u001b[43m(\u001b[49m\n\u001b[1;32m   1046\u001b[0m \u001b[43m    \u001b[49m\u001b[43moptions\u001b[49m\u001b[38;5;241;43m=\u001b[39;49m\u001b[43moptions\u001b[49m\u001b[43m,\u001b[49m\n\u001b[1;32m   1047\u001b[0m \u001b[43m    \u001b[49m\u001b[43mcast_to\u001b[49m\u001b[38;5;241;43m=\u001b[39;49m\u001b[43mcast_to\u001b[49m\u001b[43m,\u001b[49m\n\u001b[1;32m   1048\u001b[0m \u001b[43m    \u001b[49m\u001b[43mremaining_retries\u001b[49m\u001b[38;5;241;43m=\u001b[39;49m\u001b[43mremaining\u001b[49m\u001b[43m,\u001b[49m\n\u001b[1;32m   1049\u001b[0m \u001b[43m    \u001b[49m\u001b[43mstream\u001b[49m\u001b[38;5;241;43m=\u001b[39;49m\u001b[43mstream\u001b[49m\u001b[43m,\u001b[49m\n\u001b[1;32m   1050\u001b[0m \u001b[43m    \u001b[49m\u001b[43mstream_cls\u001b[49m\u001b[38;5;241;43m=\u001b[39;49m\u001b[43mstream_cls\u001b[49m\u001b[43m,\u001b[49m\n\u001b[1;32m   1051\u001b[0m \u001b[43m\u001b[49m\u001b[43m)\u001b[49m\n",
      "File \u001b[0;32m~/Documents/YTtimestamp/ai-video-summarizer-and-timestamp-generator-LLM-p-main/.venv/lib/python3.12/site-packages/openai/_base_client.py:1012\u001b[0m, in \u001b[0;36mSyncAPIClient._request\u001b[0;34m(self, cast_to, options, remaining_retries, stream, stream_cls)\u001b[0m\n\u001b[1;32m   1009\u001b[0m         err\u001b[38;5;241m.\u001b[39mresponse\u001b[38;5;241m.\u001b[39mread()\n\u001b[1;32m   1011\u001b[0m     log\u001b[38;5;241m.\u001b[39mdebug(\u001b[38;5;124m\"\u001b[39m\u001b[38;5;124mRe-raising status error\u001b[39m\u001b[38;5;124m\"\u001b[39m)\n\u001b[0;32m-> 1012\u001b[0m     \u001b[38;5;28;01mraise\u001b[39;00m \u001b[38;5;28mself\u001b[39m\u001b[38;5;241m.\u001b[39m_make_status_error_from_response(err\u001b[38;5;241m.\u001b[39mresponse) \u001b[38;5;28;01mfrom\u001b[39;00m \u001b[38;5;28;01mNone\u001b[39;00m\n\u001b[1;32m   1014\u001b[0m \u001b[38;5;28;01mreturn\u001b[39;00m \u001b[38;5;28mself\u001b[39m\u001b[38;5;241m.\u001b[39m_process_response(\n\u001b[1;32m   1015\u001b[0m     cast_to\u001b[38;5;241m=\u001b[39mcast_to,\n\u001b[1;32m   1016\u001b[0m     options\u001b[38;5;241m=\u001b[39moptions,\n\u001b[0;32m   (...)\u001b[0m\n\u001b[1;32m   1019\u001b[0m     stream_cls\u001b[38;5;241m=\u001b[39mstream_cls,\n\u001b[1;32m   1020\u001b[0m )\n",
      "\u001b[0;31mRateLimitError\u001b[0m: Error code: 429 - {'error': {'message': 'You exceeded your current quota, please check your plan and billing details. For more information on this error, read the docs: https://platform.openai.com/docs/guides/error-codes/api-errors.', 'type': 'insufficient_quota', 'param': None, 'code': 'insufficient_quota'}}"
     ]
    }
   ],
   "source": [
    "response = client.chat.completions.create(\n",
    "  model=model,\n",
    "  messages=message\n",
    ") "
   ]
  },
  {
   "cell_type": "code",
   "execution_count": 12,
   "metadata": {},
   "outputs": [
    {
     "ename": "NameError",
     "evalue": "name 'response' is not defined",
     "output_type": "error",
     "traceback": [
      "\u001b[0;31m---------------------------------------------------------------------------\u001b[0m",
      "\u001b[0;31mNameError\u001b[0m                                 Traceback (most recent call last)",
      "Cell \u001b[0;32mIn[12], line 1\u001b[0m\n\u001b[0;32m----> 1\u001b[0m \u001b[43mresponse\u001b[49m\u001b[38;5;241m.\u001b[39mchoices[\u001b[38;5;241m0\u001b[39m]\u001b[38;5;241m.\u001b[39mmessage\u001b[38;5;241m.\u001b[39mcontent\n",
      "\u001b[0;31mNameError\u001b[0m: name 'response' is not defined"
     ]
    }
   ],
   "source": [
    "response.choices[0].message.content"
   ]
  },
  {
   "cell_type": "code",
   "execution_count": null,
   "metadata": {},
   "outputs": [],
   "source": []
  }
 ],
 "metadata": {
  "kernelspec": {
   "display_name": "base",
   "language": "python",
   "name": "python3"
  },
  "language_info": {
   "codemirror_mode": {
    "name": "ipython",
    "version": 3
   },
   "file_extension": ".py",
   "mimetype": "text/x-python",
   "name": "python",
   "nbconvert_exporter": "python",
   "pygments_lexer": "ipython3",
   "version": "3.12.3"
  }
 },
 "nbformat": 4,
 "nbformat_minor": 2
}
